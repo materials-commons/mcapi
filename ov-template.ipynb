{
 "cells": [
  {
   "cell_type": "markdown",
   "metadata": {},
   "source": [
    "# OpenVisus Commons Notebook\n",
    "\n",
    "<table width='100%'>\n",
    "<tr style=\"background-color:#FFFFFF;\">\n",
    "<td><img src=\"https://nationalsciencedatafabric.org/assets/images/logo.png\" style=\"width:260px;\"/></td>\n",
    "<td><img src=\"http://cedmav.org/templates/rt_requiem/custom/images/logo-gr.png\" style=\"width:200px;\"/></td>\n",
    "<td><img src=\"http://prisms-center.org/assets/img/sc-prisms-logo.png\" style=\"width:200px;\"/></td>\n",
    "<td>\n",
    "Created by:<br>\n",
    " <a href='https://nationalsciencedatafabric.org/'/>National Science Data Fabric</a><br>\n",
    "<a href='http://cedmav.com'>CEDMAV</a><br>\n",
    "<a href='http://prisms-center.org/'>PRISMS Center</a><br>\n",
    "</td>\n",
    "</tr>\n",
    "</table>\n",
    "\n",
    "\n",
    "This notebook shows access to the OpenVisus dataset in [Jupyter notebook](https://jupyter.org/) and [Bokeh](https://bokeh.org/).\n",
    "\n",
    "This code can be run within a self-contained Jupyter Notebook or as a webpage.\n",
    "- For the first case just continue to execute the following cells to the end.\n",
    "- For the second case you need to\n",
    "- For the second case you need to\n",
    "    - convert the notebook to a regular python file (`jupyter nbconvert --to script <filename>.ipynb`) and\n",
    "    - start the Bokeh server to show the interactive webpage (` python -m bokeh serve  --show <filename.py>`)\n",
    "\n",
    "\n",
    "# Python Setup\n",
    "\n",
    "Install a recent version of python (>=3.6). For example you can use [miniforge](https://github.com/conda-forge/miniforge):\n",
    "\n",
    "```\n",
    "curl -L -O \"https://github.com/conda-forge/miniforge/releases/latest/download/Mambaforge-$(uname)-$(uname -m).sh\"\n",
    "bash Mambaforge-$(uname)-$(uname -m).sh\n",
    "```\n",
    "\n",
    "After the installation, remember to logout/login so that conda can properly set your  variables in your shell environment.\n",
    "\n",
    "Create a virtual env and install packages (change the python version as needed):\n",
    "\n",
    "```\n",
    "conda create -n myenv  python=3.10\n",
    "```\n",
    "\n",
    "Activate the environment:\n",
    "\n",
    "```\n",
    "conda activate myenv\n",
    "```\n",
    "\n",
    "Check the python path, it should be inside your `${HOME}`:\n",
    "\n",
    "```\n",
    "python --version\n",
    "```\n",
    "\n",
    "Install a minimal set of packages, this list can be changed as needed:\n",
    "\n",
    "```\n",
    "python -m pip install --upgrade pip\n",
    "python -m pip install jupyter jupyterlab bokeh jupyter-bokeh pandas panel numpy urllib3 matplotlib ipywidgets boto3 awscli pillow colorcet boto3 OpenVisusNoGui\n",
    "```"
   ]
  },
  {
   "cell_type": "markdown",
   "metadata": {},
   "source": [
    "# Notebook Setup\n",
    "\n",
    "Import python packages:"
   ]
  },
  {
   "cell_type": "code",
   "execution_count": null,
   "metadata": {
    "pycharm": {
     "is_executing": true
    }
   },
   "outputs": [],
   "source": [
    "import os, sys, logging\n",
    "\n",
    "import OpenVisus\n",
    "\n",
    "# this may be dangerous, only for local testing/debugging\n",
    "os.environ[\"BOKEH_ALLOW_WS_ORIGIN\"] = \"*\"\n",
    "\n",
    "# if you want more debug info\n",
    "# os.environ[\"VISUS_CPP_VERBOSE\"]=\"1\"\n",
    "# os.environ[\"VISUS_AWS_VERBOSE\"]=\"1\"\n",
    "# os.environ[\"BOKEH_LOG_LEVEL\"]=\"debug\" \n",
    "\n",
    "import bokeh\n",
    "import bokeh.io\n",
    "import bokeh.models.widgets\n",
    "import bokeh.core.validation\n",
    "import bokeh.plotting\n",
    "import bokeh.core.validation.warnings\n",
    "import bokeh.layouts\n",
    "\n",
    "bokeh.core.validation.silence(bokeh.core.validation.warnings.EMPTY_LAYOUT, True)\n",
    "bokeh.core.validation.silence(bokeh.core.validation.warnings.FIXED_SIZING_MODE, True)\n",
    "\n",
    "bokeh.io.output_notebook()"
   ]
  },
  {
   "cell_type": "markdown",
   "metadata": {},
   "source": [
    "# Test if Bokeh is working"
   ]
  },
  {
   "cell_type": "code",
   "execution_count": null,
   "metadata": {
    "pycharm": {
     "is_executing": true
    }
   },
   "outputs": [],
   "source": [
    "def bokeh_test_app(doc):\n",
    "    fig = bokeh.plotting.figure(title=\"Multiple line example\", x_axis_label=\"x\", y_axis_label=\"y\", height=200)\n",
    "    fig.line([1, 2, 3, 4, 5], [6, 7, 2, 4, 5])\n",
    "    grid = bokeh.layouts.grid(children=[fig], nrows=1, ncols=1, sizing_mode='stretch_width')\n",
    "    main_layout = bokeh.layouts.column(children=[], sizing_mode='stretch_width')\n",
    "    main_layout.children.append(grid)\n",
    "    button = bokeh.models.widgets.Button(label=\"Bokeh is working\", sizing_mode='stretch_width')\n",
    "    button.on_click(lambda: print(\"Bokeh on_click event is working\"))\n",
    "    main_layout.children.append(button)\n",
    "    doc.add_root(main_layout)\n",
    "\n",
    "\n",
    "bokeh.io.show(bokeh_test_app)"
   ]
  },
  {
   "cell_type": "markdown",
   "metadata": {},
   "source": [
    "# OpenVisus commons and App Setup\n",
    "\n",
    "Import OpenVisus and load dataset"
   ]
  },
  {
   "cell_type": "code",
   "execution_count": 3,
   "metadata": {},
   "outputs": [],
   "source": [
    "import OpenVisus as ov\n",
    "from OpenVisus.dashboards import Slice, Slices\n",
    "\n",
    "os.environ[\"VISUS_NETSERVICE_VERBOSE\"] = \"0\"\n",
    "os.environ[\"AWS_ACCESS_KEY_ID\"] = \"any\"\n",
    "os.environ[\"AWS_SECRET_ACCESS_KEY\"] = \"any\"\n",
    "ds_url = \"{ds-url-here}\""
   ]
  },
  {
   "cell_type": "markdown",
   "metadata": {},
   "source": [
    "# Example of accessing data with an S3 profile\n"
   ]
  },
  {
   "cell_type": "code",
   "execution_count": null,
   "metadata": {
    "pycharm": {
     "is_executing": true
    }
   },
   "outputs": [],
   "source": [
    "import os, sys\n",
    "\n",
    "#os.environ[\"VISUS_CPP_VERBOSE\"]=\"1\"\n",
    "#os.environ[\"VISUS_AWS_VERBOSE\"]=\"1\"\n",
    "\n",
    "os.environ[\"AWS_ACCESS_KEY_ID\"] = \"any\"\n",
    "os.environ[\"AWS_SECRET_ACCESS_KEY\"] = \"any\"\n",
    "\n",
    "# do the whole read only for small dataset\n",
    "db = OpenVisus.LoadDataset(ds_url)\n",
    "data = db.read()\n",
    "\n",
    "# show the image\n",
    "from matplotlib import pyplot as plt\n",
    "\n",
    "plt.imshow(data, interpolation='nearest')\n",
    "plt.show()"
   ]
  },
  {
   "cell_type": "markdown",
   "source": [
    "# View Dataset as Single Slice"
   ],
   "metadata": {
    "collapsed": false
   }
  },
  {
   "cell_type": "code",
   "execution_count": null,
   "outputs": [],
   "source": [
    "def ViewSingleSlice3DApp(doc):\n",
    "    db=ov.LoadDataset(ds_url)\n",
    "    slice=Slice(doc,sizing_mode='stretch_width')\n",
    "    slice.show_options=[\"palette\",\"timestep\",\"field\",\"direction\",\"offset\"]\n",
    "    slice.setDataset(db, direction=2)\n",
    "    slice.setPalette(\"Greys256\", palette_range=(0,255))\n",
    "    slice.setTimestep(db.getTime())\n",
    "    slice.setField(db.getField().name)\n",
    "    doc.add_root(slice.layout)\n",
    "\n",
    "bokeh.io.show(ViewSingleSlice3DApp)"
   ],
   "metadata": {
    "collapsed": false
   }
  },
  {
   "cell_type": "markdown",
   "source": [
    "# View Dataset as Multiple Slices"
   ],
   "metadata": {
    "collapsed": false
   }
  },
  {
   "cell_type": "code",
   "execution_count": null,
   "outputs": [],
   "source": [
    "def ViewMultipleSlices2DApp(doc):\n",
    "    db=ov.LoadDataset(ds_url)\n",
    "    slices=Slices(doc,sizing_mode='stretch_width')\n",
    "    slices.setPalette(\"Greys256\", palette_range=(0,255))\n",
    "    slices.setTimestep(db.getTime())\n",
    "    slices.setField(db.getField().name)\n",
    "    doc.add_root(slices.layout)\n",
    "    doc.add_timeout_callback(lambda: slices.setDataset(db,layout=2),100)  # IMPORTANT to fix layout\n",
    "\n",
    "bokeh.io.show(ViewMultipleSlices2DApp)"
   ],
   "metadata": {
    "collapsed": false
   }
  },
  {
   "cell_type": "markdown",
   "metadata": {},
   "source": [
    "# Visualizer and Explorer\n",
    "Visualize and explore your image."
   ]
  },
  {
   "cell_type": "code",
   "execution_count": null,
   "metadata": {
    "pycharm": {
     "is_executing": true
    }
   },
   "outputs": [],
   "source": [
    "import panel as pn\n",
    "\n",
    "pn.extension('vtk')\n",
    "\n",
    "dims = 700\n",
    "\n",
    "db = OpenVisus.LoadDataset(ds_url)\n",
    "\n",
    "# Change max_resolution depending on how much resolution you want. The value must be\n",
    "# between 0 and db.max_resolution.\n",
    "max_resolution = db.max_resolution\n",
    "\n",
    "values = db.read(max_resolution=max_resolution, time=0)\n",
    "\n",
    "volume = pn.panel(values, sizing_mode='stretch_both', height=200, orientation_widget=True,\n",
    "                  display_slices=True, spacing=(1, 1, 1), controller_expanded=False)\n",
    "slider = pn.widgets.IntSlider(name='Experiment', start=0, end=1, step=1, value=0)\n",
    "slideri = pn.widgets.IntSlider(name='i-slice', start=0, end=values.shape[0], value=values.shape[0] // 2)\n",
    "sliderj = pn.widgets.IntSlider(name='j-slice', start=0, end=values.shape[1], value=values.shape[1] // 2)\n",
    "sliderk = pn.widgets.IntSlider(name='k-slick', start=0, end=values.shape[2], value=values.shape[2] // 2)\n",
    "\n",
    "\n",
    "@pn.depends(slider)\n",
    "def cb_slider(value):\n",
    "    global volume\n",
    "    volume.object = db.read(max_resolution=max_resolution, time=value)\n",
    "    return \" \"\n",
    "\n",
    "\n",
    "@pn.depends(slideri)\n",
    "def cb_slideri(value):\n",
    "    global volume\n",
    "    volume.slice_i = value\n",
    "    return \" \"\n",
    "\n",
    "\n",
    "@pn.depends(sliderj)\n",
    "def cb_sliderj(value):\n",
    "    global volume\n",
    "    volume.slice_j = value\n",
    "    return \" \"\n",
    "\n",
    "\n",
    "@pn.depends(sliderk)\n",
    "def cb_sliderk(value):\n",
    "    global volume\n",
    "    volume.slice_k = value\n",
    "    return \" \"\n",
    "\n",
    "\n",
    "checkbox_volume = pn.widgets.Checkbox(name='Show Volume', value=True)\n",
    "\n",
    "\n",
    "@pn.depends(checkbox_volume)\n",
    "def cb_checkbox_volume(value):\n",
    "    global volume\n",
    "    volume.display_volume = value\n",
    "    return \" \"\n",
    "\n",
    "\n",
    "checkbox_slices = pn.widgets.Checkbox(name='Show Slices', value=True)\n",
    "\n",
    "\n",
    "@pn.depends(checkbox_slices)\n",
    "def cb_checkbox_slices(value):\n",
    "    global volume\n",
    "    volume.display_slices = value\n",
    "    return \" \"\n",
    "\n",
    "\n",
    "pn.Column(slider, slideri, sliderj, sliderk,\n",
    "          pn.Row(checkbox_volume, checkbox_slices),\n",
    "          volume, cb_slider, cb_slideri, cb_sliderj, cb_sliderk, cb_checkbox_volume, cb_checkbox_slices,\n",
    "          width=dims, height=1000,\n",
    "          css_classes=['panel-widget-box'],\n",
    "          sizing_mode='stretch_width',\n",
    "          width_policy='max')"
   ]
  },
  {
   "cell_type": "markdown",
   "metadata": {},
   "source": [
    "# Run the OpenVisus Viewer\n",
    "\n",
    "You can run the OpenVisus viewer on your system. The viewer has many more features than are available in this notebook.\n",
    "To run the viewer copy execute the block below. It will show you the command to run for this dataset."
   ]
  },
  {
   "cell_type": "code",
   "execution_count": null,
   "metadata": {
    "pycharm": {
     "is_executing": true
    }
   },
   "outputs": [],
   "source": [
    "import sys\n",
    "print(f'{sys.executable} -m OpenVisus viewer --dataset {ds_url}')"
   ]
  },
  {
   "cell_type": "markdown",
   "metadata": {},
   "source": [
    "---------------------------\n",
    "Copyright (c) 2023 **National Science Data Fabric (NSDF)** \n",
    "\n",
    "Permission is hereby granted, free of charge, to any person obtaining a copy of this software and associated documentation files (the \"Software\"), to deal in the Software without restriction, including without limitation the rights to use, copy, modify, merge, publish, distribute, sublicense, and/or sell copies of the Software, and to permit persons to whom the Software is furnished to do so, subject to the following conditions:\n",
    "\n",
    "**The above copyright notice and this permission notice shall be included in all copies or substantial portions of the Software.** \n",
    "\n",
    "THE SOFTWARE IS PROVIDED \"AS IS\", WITHOUT WARRANTY OF ANY KIND, EXPRESS OR\n",
    "IMPLIED, INCLUDING BUT NOT LIMITED TO THE WARRANTIES OF MERCHANTABILITY,\n",
    "FITNESS FOR A PARTICULAR PURPOSE AND NONINFRINGEMENT. IN NO EVENT SHALL THE\n",
    "AUTHORS OR COPYRIGHT HOLDERS BE LIABLE FOR ANY CLAIM, DAMAGES OR OTHER\n",
    "LIABILITY, WHETHER IN AN ACTION OF CONTRACT, TORT OR OTHERWISE, ARISING FROM,\n",
    "OUT OF OR IN CONNECTION WITH THE SOFTWARE OR THE USE OR OTHER DEALINGS IN THE\n",
    "SOFTWARE."
   ]
  }
 ],
 "metadata": {
  "kernelspec": {
   "display_name": "Python 3 (ipykernel)",
   "language": "python",
   "name": "python3"
  },
  "language_info": {
   "codemirror_mode": {
    "name": "ipython",
    "version": 3
   },
   "file_extension": ".py",
   "mimetype": "text/x-python",
   "name": "python",
   "nbconvert_exporter": "python",
   "pygments_lexer": "ipython3",
   "version": "3.10.6"
  },
  "vscode": {
   "interpreter": {
    "hash": "916dbcbb3f70747c44a77c7bcd40155683ae19c65e1c03b4aa3499c5328201f1"
   }
  }
 },
 "nbformat": 4,
 "nbformat_minor": 2
}
